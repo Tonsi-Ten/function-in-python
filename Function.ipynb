{
 "cells": [
  {
   "cell_type": "code",
   "execution_count": 1,
   "id": "2812e4ed",
   "metadata": {},
   "outputs": [
    {
     "data": {
      "text/plain": [
       "9"
      ]
     },
     "execution_count": 1,
     "metadata": {},
     "output_type": "execute_result"
    }
   ],
   "source": [
    "a =\"tosni ten\"\n",
    "\n",
    "len(a)"
   ]
  },
  {
   "cell_type": "code",
   "execution_count": 2,
   "id": "05e20f10",
   "metadata": {},
   "outputs": [
    {
     "name": "stdout",
     "output_type": "stream",
     "text": [
      "This is my first function in python\n"
     ]
    }
   ],
   "source": [
    "def tonsi():\n",
    "    print(\"This is my first function in python\")\n",
    "    \n",
    "tonsi()    "
   ]
  },
  {
   "cell_type": "code",
   "execution_count": 3,
   "id": "6e3f39f6",
   "metadata": {},
   "outputs": [
    {
     "name": "stdout",
     "output_type": "stream",
     "text": [
      "This is my first function in python\n"
     ]
    }
   ],
   "source": [
    "t = tonsi()"
   ]
  },
  {
   "cell_type": "code",
   "execution_count": 4,
   "id": "bbcebd1a",
   "metadata": {},
   "outputs": [
    {
     "name": "stdout",
     "output_type": "stream",
     "text": [
      "None\n"
     ]
    }
   ],
   "source": [
    "print(t)\n"
   ]
  },
  {
   "cell_type": "code",
   "execution_count": 13,
   "id": "407aa271",
   "metadata": {},
   "outputs": [],
   "source": [
    "a=\"tonsi\""
   ]
  },
  {
   "cell_type": "code",
   "execution_count": 15,
   "id": "665e81a1",
   "metadata": {},
   "outputs": [
    {
     "data": {
      "text/plain": [
       "str"
      ]
     },
     "execution_count": 15,
     "metadata": {},
     "output_type": "execute_result"
    }
   ],
   "source": [
    "type(a)"
   ]
  },
  {
   "cell_type": "code",
   "execution_count": 17,
   "id": "828f56cf",
   "metadata": {},
   "outputs": [
    {
     "data": {
      "text/plain": [
       "NoneType"
      ]
     },
     "execution_count": 17,
     "metadata": {},
     "output_type": "execute_result"
    }
   ],
   "source": [
    "type(t)"
   ]
  },
  {
   "cell_type": "code",
   "execution_count": 21,
   "id": "c8c67439",
   "metadata": {},
   "outputs": [],
   "source": [
    "def test2():\n",
    "    return 6"
   ]
  },
  {
   "cell_type": "code",
   "execution_count": 23,
   "id": "78924fee",
   "metadata": {},
   "outputs": [
    {
     "data": {
      "text/plain": [
       "6"
      ]
     },
     "execution_count": 23,
     "metadata": {},
     "output_type": "execute_result"
    }
   ],
   "source": [
    "test2()"
   ]
  },
  {
   "cell_type": "code",
   "execution_count": 27,
   "id": "847fe85e",
   "metadata": {},
   "outputs": [],
   "source": [
    "d = test2()\n"
   ]
  },
  {
   "cell_type": "code",
   "execution_count": 30,
   "id": "4c34ad59",
   "metadata": {},
   "outputs": [
    {
     "data": {
      "text/plain": [
       "6"
      ]
     },
     "execution_count": 30,
     "metadata": {},
     "output_type": "execute_result"
    }
   ],
   "source": [
    "d"
   ]
  },
  {
   "cell_type": "code",
   "execution_count": 32,
   "id": "1d3c2217",
   "metadata": {},
   "outputs": [
    {
     "name": "stdout",
     "output_type": "stream",
     "text": [
      "6\n"
     ]
    }
   ],
   "source": [
    "print(d)"
   ]
  },
  {
   "cell_type": "code",
   "execution_count": 36,
   "id": "f40602b6",
   "metadata": {},
   "outputs": [],
   "source": [
    "def test3():\n",
    "    return 5\n",
    "\n"
   ]
  },
  {
   "cell_type": "code",
   "execution_count": 37,
   "id": "2b4032a9",
   "metadata": {},
   "outputs": [],
   "source": [
    "def test4():\n",
    "    print(\"Aditya Prakash is a good boy\")"
   ]
  },
  {
   "cell_type": "code",
   "execution_count": 39,
   "id": "6f2a09ae",
   "metadata": {},
   "outputs": [
    {
     "name": "stdout",
     "output_type": "stream",
     "text": [
      "Aditya Prakash is a good boy\n"
     ]
    }
   ],
   "source": [
    "test4()"
   ]
  },
  {
   "cell_type": "code",
   "execution_count": 41,
   "id": "b92d4d16",
   "metadata": {},
   "outputs": [
    {
     "data": {
      "text/plain": [
       "5"
      ]
     },
     "execution_count": 41,
     "metadata": {},
     "output_type": "execute_result"
    }
   ],
   "source": [
    "test3()"
   ]
  },
  {
   "cell_type": "code",
   "execution_count": 42,
   "id": "8d47c1ef",
   "metadata": {},
   "outputs": [],
   "source": [
    "def test5():\n",
    "    return \"Tonsi\""
   ]
  },
  {
   "cell_type": "code",
   "execution_count": 46,
   "id": "28a4d1dd",
   "metadata": {},
   "outputs": [
    {
     "data": {
      "text/plain": [
       "'TonsiTen'"
      ]
     },
     "execution_count": 46,
     "metadata": {},
     "output_type": "execute_result"
    }
   ],
   "source": [
    "test5() + \"Ten\" #concatination\n",
    "    "
   ]
  },
  {
   "cell_type": "code",
   "execution_count": 48,
   "id": "42ba7f4f",
   "metadata": {},
   "outputs": [
    {
     "ename": "TypeError",
     "evalue": "unsupported operand type(s) for +: 'int' and 'str'",
     "output_type": "error",
     "traceback": [
      "\u001b[1;31m---------------------------------------------------------------------------\u001b[0m",
      "\u001b[1;31mTypeError\u001b[0m                                 Traceback (most recent call last)",
      "Cell \u001b[1;32mIn[48], line 1\u001b[0m\n\u001b[1;32m----> 1\u001b[0m \u001b[43mtest3\u001b[49m\u001b[43m(\u001b[49m\u001b[43m)\u001b[49m\u001b[43m \u001b[49m\u001b[38;5;241;43m+\u001b[39;49m\u001b[43m \u001b[49m\u001b[43mtest5\u001b[49m\u001b[43m(\u001b[49m\u001b[43m)\u001b[49m\n",
      "\u001b[1;31mTypeError\u001b[0m: unsupported operand type(s) for +: 'int' and 'str'"
     ]
    }
   ],
   "source": [
    "test3() + test5()"
   ]
  },
  {
   "cell_type": "code",
   "execution_count": 33,
   "id": "d644df8d",
   "metadata": {},
   "outputs": [],
   "source": [
    "def test6():\n",
    "    return 1,3,4,5, [6,8,2,\"tonsi\",\"ten\"],(4,6,2,3,7)\n",
    "    "
   ]
  },
  {
   "cell_type": "code",
   "execution_count": 51,
   "id": "8ed492d1",
   "metadata": {},
   "outputs": [
    {
     "data": {
      "text/plain": [
       "(1, 3, 4, 5, [6, 8, 2, 'tonsi', 'ten'], (4, 6, 2, 3, 7))"
      ]
     },
     "execution_count": 51,
     "metadata": {},
     "output_type": "execute_result"
    }
   ],
   "source": [
    "test6()"
   ]
  },
  {
   "cell_type": "code",
   "execution_count": 52,
   "id": "f0d9db29",
   "metadata": {},
   "outputs": [
    {
     "data": {
      "text/plain": [
       "tuple"
      ]
     },
     "execution_count": 52,
     "metadata": {},
     "output_type": "execute_result"
    }
   ],
   "source": [
    "type(test6())"
   ]
  },
  {
   "cell_type": "code",
   "execution_count": 23,
   "id": "1080d3dd",
   "metadata": {},
   "outputs": [],
   "source": [
    "def ten():\n",
    "    return 1,4,[5,8,6,0,2,\"tonsi\"],(3,5,6,8,7,9)"
   ]
  },
  {
   "cell_type": "code",
   "execution_count": 24,
   "id": "13189f63",
   "metadata": {},
   "outputs": [],
   "source": [
    "a,b,c,d = ten()"
   ]
  },
  {
   "cell_type": "code",
   "execution_count": 26,
   "id": "4a1bbcbc",
   "metadata": {},
   "outputs": [
    {
     "data": {
      "text/plain": [
       "[5, 8, 6, 0, 2, 'tonsi']"
      ]
     },
     "execution_count": 26,
     "metadata": {},
     "output_type": "execute_result"
    }
   ],
   "source": [
    "c\n"
   ]
  },
  {
   "cell_type": "code",
   "execution_count": 29,
   "id": "9ca83328",
   "metadata": {},
   "outputs": [
    {
     "data": {
      "text/plain": [
       "1"
      ]
     },
     "execution_count": 29,
     "metadata": {},
     "output_type": "execute_result"
    }
   ],
   "source": [
    "a"
   ]
  },
  {
   "cell_type": "code",
   "execution_count": 31,
   "id": "29831cf4",
   "metadata": {},
   "outputs": [
    {
     "data": {
      "text/plain": [
       "4"
      ]
     },
     "execution_count": 31,
     "metadata": {},
     "output_type": "execute_result"
    }
   ],
   "source": [
    "b"
   ]
  },
  {
   "cell_type": "code",
   "execution_count": 47,
   "id": "46514cd6",
   "metadata": {},
   "outputs": [],
   "source": [
    "def test8():\n",
    "    s = 4*5+2\n",
    "    return s\n",
    "    "
   ]
  },
  {
   "cell_type": "code",
   "execution_count": 45,
   "id": "83441229",
   "metadata": {},
   "outputs": [
    {
     "data": {
      "text/plain": [
       "int"
      ]
     },
     "execution_count": 45,
     "metadata": {},
     "output_type": "execute_result"
    }
   ],
   "source": [
    "type(test8())\n"
   ]
  },
  {
   "cell_type": "code",
   "execution_count": 44,
   "id": "a4352828",
   "metadata": {},
   "outputs": [
    {
     "data": {
      "text/plain": [
       "17"
      ]
     },
     "execution_count": 44,
     "metadata": {},
     "output_type": "execute_result"
    }
   ],
   "source": [
    "test8()"
   ]
  },
  {
   "cell_type": "code",
   "execution_count": 49,
   "id": "636dbcd0",
   "metadata": {},
   "outputs": [
    {
     "data": {
      "text/plain": [
       "22"
      ]
     },
     "execution_count": 49,
     "metadata": {},
     "output_type": "execute_result"
    }
   ],
   "source": [
    "test8()"
   ]
  },
  {
   "cell_type": "code",
   "execution_count": 51,
   "id": "12e182e7",
   "metadata": {},
   "outputs": [
    {
     "data": {
      "text/plain": [
       "24"
      ]
     },
     "execution_count": 51,
     "metadata": {},
     "output_type": "execute_result"
    }
   ],
   "source": [
    "test8()+2"
   ]
  },
  {
   "cell_type": "code",
   "execution_count": 53,
   "id": "80c8310a",
   "metadata": {},
   "outputs": [
    {
     "name": "stdout",
     "output_type": "stream",
     "text": [
      "42\n"
     ]
    }
   ],
   "source": [
    "# Give the sum of all the elements inside the list\n",
    "\n",
    "k = [4,5,7,3,9,6,2,6]\n",
    "a=0\n",
    "for i in k:\n",
    "    a= i+a\n",
    "print(a)    "
   ]
  },
  {
   "cell_type": "code",
   "execution_count": 6,
   "id": "50657a5a",
   "metadata": {},
   "outputs": [],
   "source": [
    "def test10():\n",
    "    l = [2,3,4,5,6,7,8,9]\n",
    "    a = 0\n",
    "    for i in l:\n",
    "        a = i+a\n",
    "    return(a)\n"
   ]
  },
  {
   "cell_type": "code",
   "execution_count": 7,
   "id": "992a40e2",
   "metadata": {},
   "outputs": [
    {
     "data": {
      "text/plain": [
       "44"
      ]
     },
     "execution_count": 7,
     "metadata": {},
     "output_type": "execute_result"
    }
   ],
   "source": [
    "test10()"
   ]
  },
  {
   "cell_type": "code",
   "execution_count": 6,
   "id": "78604512",
   "metadata": {},
   "outputs": [],
   "source": [
    "def test11():\n",
    "    l = [2,5,3,6,7,6,9,\"tonsi\"]\n",
    "    a = 0\n",
    "    for i in l:\n",
    "        if type(i) == int:\n",
    "            a = i+a\n",
    "    return a"
   ]
  },
  {
   "cell_type": "code",
   "execution_count": 8,
   "id": "cdc14f83",
   "metadata": {},
   "outputs": [
    {
     "data": {
      "text/plain": [
       "38"
      ]
     },
     "execution_count": 8,
     "metadata": {},
     "output_type": "execute_result"
    }
   ],
   "source": [
    "test11()"
   ]
  },
  {
   "cell_type": "code",
   "execution_count": 2,
   "id": "08f2924b",
   "metadata": {},
   "outputs": [],
   "source": [
    "l1 = [2,5,3,6,7,6,9,\"tonsi\",4.5]"
   ]
  },
  {
   "cell_type": "code",
   "execution_count": 3,
   "id": "ac4c4dd8",
   "metadata": {},
   "outputs": [],
   "source": [
    "def test12(l):\n",
    "    a = 0\n",
    "    for i in l:\n",
    "        if type(i) == int:\n",
    "            a = i+a\n",
    "    return a"
   ]
  },
  {
   "cell_type": "code",
   "execution_count": 4,
   "id": "c01ff929",
   "metadata": {},
   "outputs": [
    {
     "ename": "NameError",
     "evalue": "name 'l1' is not defined",
     "output_type": "error",
     "traceback": [
      "\u001b[1;31m---------------------------------------------------------------------------\u001b[0m",
      "\u001b[1;31mNameError\u001b[0m                                 Traceback (most recent call last)",
      "Cell \u001b[1;32mIn[4], line 1\u001b[0m\n\u001b[1;32m----> 1\u001b[0m test12(\u001b[43ml1\u001b[49m)\n",
      "\u001b[1;31mNameError\u001b[0m: name 'l1' is not defined"
     ]
    }
   ],
   "source": [
    "test12(l1)"
   ]
  },
  {
   "cell_type": "code",
   "execution_count": 3,
   "id": "b7b56fbb",
   "metadata": {},
   "outputs": [],
   "source": [
    "def test13(a,b):\n",
    "    return a+b\n",
    "\n"
   ]
  },
  {
   "cell_type": "code",
   "execution_count": 24,
   "id": "1034ed78",
   "metadata": {},
   "outputs": [
    {
     "data": {
      "text/plain": [
       "15"
      ]
     },
     "execution_count": 24,
     "metadata": {},
     "output_type": "execute_result"
    }
   ],
   "source": [
    "test13(10,5)"
   ]
  },
  {
   "cell_type": "code",
   "execution_count": 28,
   "id": "677bef28",
   "metadata": {},
   "outputs": [
    {
     "data": {
      "text/plain": [
       "'tonsiaditya'"
      ]
     },
     "execution_count": 28,
     "metadata": {},
     "output_type": "execute_result"
    }
   ],
   "source": [
    "test13(\"tonsi\",\"aditya\")\n"
   ]
  },
  {
   "cell_type": "code",
   "execution_count": 4,
   "id": "f171c0ed",
   "metadata": {},
   "outputs": [
    {
     "data": {
      "text/plain": [
       "11"
      ]
     },
     "execution_count": 4,
     "metadata": {},
     "output_type": "execute_result"
    }
   ],
   "source": [
    "test13(a=5 , b=6)"
   ]
  },
  {
   "cell_type": "code",
   "execution_count": 5,
   "id": "ca1c6850",
   "metadata": {},
   "outputs": [
    {
     "data": {
      "text/plain": [
       "'Aditya Prakash '"
      ]
     },
     "execution_count": 5,
     "metadata": {},
     "output_type": "execute_result"
    }
   ],
   "source": [
    "test13(\"Aditya \",\"Prakash \")"
   ]
  },
  {
   "cell_type": "code",
   "execution_count": 11,
   "id": "99d47f6c",
   "metadata": {},
   "outputs": [],
   "source": [
    "l = [8,4,6,3,\"tonsi\",5,6,\"ten\",\"aditya\",7,\"prakash\"]\n"
   ]
  },
  {
   "cell_type": "code",
   "execution_count": 2,
   "id": "94f71f29",
   "metadata": {},
   "outputs": [],
   "source": [
    "def test15(l):\n",
    "    \"\"\"\" This is my function which will help you to seperate a string from a list into new list    \"\"\"\n",
    "    l1=[]\n",
    "    for i in l:\n",
    "        if type(i) == str:\n",
    "            l1.append(i)\n",
    "    return l1        "
   ]
  },
  {
   "cell_type": "code",
   "execution_count": 23,
   "id": "e615222f",
   "metadata": {},
   "outputs": [
    {
     "data": {
      "text/plain": [
       "['tonsi', 'ten', 'aditya', 'prakash']"
      ]
     },
     "execution_count": 23,
     "metadata": {},
     "output_type": "execute_result"
    }
   ],
   "source": [
    "test15(l)"
   ]
  },
  {
   "cell_type": "code",
   "execution_count": 25,
   "id": "11e3a4d9",
   "metadata": {},
   "outputs": [],
   "source": [
    "l2=[\"sakib\",\"madarchod\",55,89,2,\"hai\"]"
   ]
  },
  {
   "cell_type": "code",
   "execution_count": 26,
   "id": "67ec6b8d",
   "metadata": {},
   "outputs": [
    {
     "data": {
      "text/plain": [
       "['sakib', 'madarchod', 'hai']"
      ]
     },
     "execution_count": 26,
     "metadata": {},
     "output_type": "execute_result"
    }
   ],
   "source": [
    "test15(l2)"
   ]
  },
  {
   "cell_type": "code",
   "execution_count": 5,
   "id": "764c5940",
   "metadata": {},
   "outputs": [
    {
     "data": {
      "text/plain": [
       "38"
      ]
     },
     "execution_count": 5,
     "metadata": {},
     "output_type": "execute_result"
    }
   ],
   "source": [
    "test12(l1)"
   ]
  },
  {
   "cell_type": "code",
   "execution_count": null,
   "id": "623095b8",
   "metadata": {},
   "outputs": [],
   "source": [
    "test15()"
   ]
  },
  {
   "cell_type": "code",
   "execution_count": null,
   "id": "1a603f0c",
   "metadata": {},
   "outputs": [],
   "source": []
  },
  {
   "cell_type": "code",
   "execution_count": null,
   "id": "67332413",
   "metadata": {},
   "outputs": [],
   "source": []
  }
 ],
 "metadata": {
  "kernelspec": {
   "display_name": "Python 3 (ipykernel)",
   "language": "python",
   "name": "python3"
  },
  "language_info": {
   "codemirror_mode": {
    "name": "ipython",
    "version": 3
   },
   "file_extension": ".py",
   "mimetype": "text/x-python",
   "name": "python",
   "nbconvert_exporter": "python",
   "pygments_lexer": "ipython3",
   "version": "3.11.1"
  }
 },
 "nbformat": 4,
 "nbformat_minor": 5
}
